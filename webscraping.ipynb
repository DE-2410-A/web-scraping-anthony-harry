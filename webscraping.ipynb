{
 "cells": [
  {
   "cell_type": "markdown",
   "metadata": {},
   "source": [
    "![Digital Futures](https://github.com/digital-futures-academy/DataScienceMasterResources/blob/main/Resources/datascience-notebook-header.png?raw=true)"
   ]
  },
  {
   "cell_type": "markdown",
   "metadata": {},
   "source": [
    "# Setting up the Project Environment\n",
    "\n",
    "Ultimately, the Python code written here will be extracted to scripts for execution in an automated pipeline.  To facilitate this, there is a need to set up a project environment that will allow for the execution of the code in a controlled and reproducible environment.\n",
    "\n",
    "In the initial stages of the activities, the packages needed are `requests` and `pytest`.  The `requests` package is used to make HTTP requests to the API, while `pytest` is used for testing the code we also need *BeautifulSoup* (package name `beautifulsoup4`.  In later activities, you may need to install additional packages.  To do this, add the packages to the `pip install` command below and re-run the cell.\n",
    "\n",
    "> **Remember:** The goal is to create a set of code cells that can be extracted to separate scripts for execution in an automated pipeline.  Therefore, the code should be kept in 3 distinct cells:\n",
    "> \n",
    "> - **Shell Commands**:  Used to set up the project environment\n",
    "> \n",
    "> - **Python Tests**: Used to test the Python production scripts both now and as part of the automated pipeline\n",
    "> \n",
    "> - **Python Production Code**: The Python code that will be extracted to a script to execute during the pipeline\n",
    "\n",
    "---"
   ]
  },
  {
   "cell_type": "markdown",
   "metadata": {},
   "source": [
    "# Environment Setup Scripts\n",
    "\n",
    "If you are running this notebook after cloning and have not set up your environment to run shell commands, you will need to run the following commands in your terminal to set up the environment.\n",
    "\n",
    "> **NOTE:**  These commands need to be executed in the terminal.  \n",
    ">\n",
    "> Open a terminal at the root of your project before executing these commands\n",
    "> \n",
    "> Until your environment is set up, Jupyter Notebooks will not be able to run **shell** scripts.\n",
    "\n",
    "```sh\n",
    "# Create a virtual environment (add the command below)\n",
    "python3 -m venv .venv # Note: This command could also be python -m venv .venv # python3 and python are a symlink to the python version installed on your system\n",
    "\n",
    "# Activate the virtual environment \n",
    "source .venv/bin/activate\n",
    "\n",
    "# Install required package to execute shell commands from Jupyter Notebook\n",
    "pip install ipykernel               ## OR \n",
    "pip install -r requirements.txt     ## IF there is already a requirements.txt file CONTAINING ipykenrnel in the project\n",
    "```\n"
   ]
  },
  {
   "cell_type": "code",
   "execution_count": 6,
   "metadata": {
    "vscode": {
     "languageId": "shellscript"
    }
   },
   "outputs": [
    {
     "name": "stdout",
     "output_type": "stream",
     "text": [
      "Requirement already satisfied: requests in .\\.venv\\lib\\site-packages (2.32.3)\n",
      "Collecting pytest\n",
      "  Using cached pytest-8.3.3-py3-none-any.whl.metadata (7.5 kB)\n",
      "Collecting beautifulsoup4\n",
      "  Downloading beautifulsoup4-4.12.3-py3-none-any.whl.metadata (3.8 kB)\n",
      "Requirement already satisfied: charset-normalizer<4,>=2 in .\\.venv\\lib\\site-packages (from requests) (3.4.0)\n",
      "Requirement already satisfied: idna<4,>=2.5 in .\\.venv\\lib\\site-packages (from requests) (3.10)\n",
      "Requirement already satisfied: urllib3<3,>=1.21.1 in .\\.venv\\lib\\site-packages (from requests) (2.2.3)\n",
      "Requirement already satisfied: certifi>=2017.4.17 in .\\.venv\\lib\\site-packages (from requests) (2024.8.30)\n",
      "Collecting iniconfig (from pytest)\n",
      "  Using cached iniconfig-2.0.0-py3-none-any.whl.metadata (2.6 kB)\n",
      "Requirement already satisfied: packaging in .\\.venv\\lib\\site-packages (from pytest) (24.2)\n",
      "Collecting pluggy<2,>=1.5 (from pytest)\n",
      "  Using cached pluggy-1.5.0-py3-none-any.whl.metadata (4.8 kB)\n",
      "Requirement already satisfied: colorama in .\\.venv\\lib\\site-packages (from pytest) (0.4.6)\n",
      "Collecting soupsieve>1.2 (from beautifulsoup4)\n",
      "  Downloading soupsieve-2.6-py3-none-any.whl.metadata (4.6 kB)\n",
      "Using cached pytest-8.3.3-py3-none-any.whl (342 kB)\n",
      "Downloading beautifulsoup4-4.12.3-py3-none-any.whl (147 kB)\n",
      "Using cached pluggy-1.5.0-py3-none-any.whl (20 kB)\n",
      "Downloading soupsieve-2.6-py3-none-any.whl (36 kB)\n",
      "Using cached iniconfig-2.0.0-py3-none-any.whl (5.9 kB)\n",
      "Installing collected packages: soupsieve, pluggy, iniconfig, pytest, beautifulsoup4\n",
      "Successfully installed beautifulsoup4-4.12.3 iniconfig-2.0.0 pluggy-1.5.0 pytest-8.3.3 soupsieve-2.6\n"
     ]
    },
    {
     "name": "stderr",
     "output_type": "stream",
     "text": [
      "\n",
      "[notice] A new release of pip is available: 24.2 -> 24.3.1\n",
      "[notice] To update, run: python.exe -m pip install --upgrade pip\n"
     ]
    }
   ],
   "source": [
    "# Install the necessary packages\n",
    "!pip install requests pytest beautifulsoup4\n",
    "\n",
    "# Create a requirements.txt file\n",
    "!pip freeze > requirements.txt"
   ]
  },
  {
   "cell_type": "markdown",
   "metadata": {},
   "source": [
    "> **Note:** \n",
    "> The `!` at the beginning of the lines is a special character in Jupyter Notebooks that allows you to run shell commands from the notebook.  \n",
    "> These will need to be removed from any commands that are to be exported to a `.sh` shell script file for the pipeline.\n",
    "\n",
    "---"
   ]
  },
  {
   "cell_type": "markdown",
   "metadata": {},
   "source": [
    "# Python Tests\n",
    "\n",
    "Develop any tests for functions in separate cells below.  The first has been provided for you as an example, add others as necessary."
   ]
  },
  {
   "cell_type": "markdown",
   "metadata": {},
   "source": [
    "### Test `request_to_scrape`"
   ]
  },
  {
   "cell_type": "code",
   "execution_count": 7,
   "metadata": {},
   "outputs": [
    {
     "ename": "NameError",
     "evalue": "name 'request_to_scrape' is not defined",
     "output_type": "error",
     "traceback": [
      "\u001b[1;31m---------------------------------------------------------------------------\u001b[0m",
      "\u001b[1;31mNameError\u001b[0m                                 Traceback (most recent call last)",
      "Cell \u001b[1;32mIn[7], line 18\u001b[0m\n\u001b[0;32m     15\u001b[0m     \u001b[38;5;28;01mwith\u001b[39;00m patch(\u001b[38;5;124m'\u001b[39m\u001b[38;5;124mrequests.get\u001b[39m\u001b[38;5;124m'\u001b[39m) \u001b[38;5;28;01mas\u001b[39;00m mock_get:\n\u001b[0;32m     16\u001b[0m         mock_get\u001b[38;5;241m.\u001b[39massert_called_once_with(url) \n\u001b[1;32m---> 18\u001b[0m \u001b[43mtest_request_to_scrape\u001b[49m\u001b[43m(\u001b[49m\u001b[43m)\u001b[49m\n",
      "Cell \u001b[1;32mIn[7], line 12\u001b[0m, in \u001b[0;36mtest_request_to_scrape\u001b[1;34m()\u001b[0m\n\u001b[0;32m      9\u001b[0m     mock_get\u001b[38;5;241m.\u001b[39mreturn_value\u001b[38;5;241m.\u001b[39mstatus_code \u001b[38;5;241m=\u001b[39m \u001b[38;5;241m200\u001b[39m\n\u001b[0;32m     11\u001b[0m \u001b[38;5;66;03m# act \u001b[39;00m\n\u001b[1;32m---> 12\u001b[0m \u001b[43mrequest_to_scrape\u001b[49m(url)\n\u001b[0;32m     14\u001b[0m \u001b[38;5;66;03m# assert\u001b[39;00m\n\u001b[0;32m     15\u001b[0m \u001b[38;5;28;01mwith\u001b[39;00m patch(\u001b[38;5;124m'\u001b[39m\u001b[38;5;124mrequests.get\u001b[39m\u001b[38;5;124m'\u001b[39m) \u001b[38;5;28;01mas\u001b[39;00m mock_get:\n",
      "\u001b[1;31mNameError\u001b[0m: name 'request_to_scrape' is not defined"
     ]
    }
   ],
   "source": [
    "# Test request_to_scrape\n",
    "from unittest.mock import *\n",
    "\n",
    "\n",
    "def test_request_to_scrape():\n",
    "    # arrange\n",
    "    url = \"http://books.toscrape.com/\"\n",
    "    with patch('requests.get') as mock_get:\n",
    "        mock_get.return_value.status_code = 200\n",
    "\n",
    "    # act \n",
    "    request_to_scrape(url)\n",
    "\n",
    "    # assert\n",
    "    with patch('requests.get') as mock_get:\n",
    "        mock_get.assert_called_once_with(url) \n",
    "        \n",
    "test_request_to_scrape()"
   ]
  },
  {
   "cell_type": "markdown",
   "metadata": {},
   "source": [
    "### Run the tests\n",
    "\n",
    "Run the cell containing the `ipytest.run()` command to execute the tests.  The tests should all fail until you have written the production code.\n",
    "\n",
    "Don't forget to run the installation and initialisation cell too on the first time you run the tests!"
   ]
  },
  {
   "cell_type": "markdown",
   "metadata": {},
   "source": [
    "\n",
    "---\n",
    "\n",
    "# Python Production Code\n",
    "\n",
    "\n",
    "Develop any functions for use as production code in separate cells below. The first has been provided as an example under the Production Constants, add others as necessary."
   ]
  },
  {
   "cell_type": "markdown",
   "metadata": {},
   "source": [
    "### PRODUCTION CONSTANTS"
   ]
  },
  {
   "cell_type": "code",
   "execution_count": null,
   "metadata": {},
   "outputs": [],
   "source": [
    "# PRODUCTION CONSTANTS\n",
    "\n",
    "# Constants for status messages\n",
    "STATUS_SUCCESS = \"success\"\n",
    "STATUS_ERROR = \"error\"\n",
    "ERROR_NOT_HTML = \"The response is not HTML\"\n",
    "ERROR_REQUEST_FAILED = \"Request failed for URL\"\n",
    "ERROR_UNEXPECTED = \"Unexpected error for URL\"\n",
    "\n",
    "# HTML Parser\n",
    "HTML_PARSER = \"html.parser\""
   ]
  },
  {
   "cell_type": "markdown",
   "metadata": {},
   "source": [
    "### `request_to_scrape` Production Code"
   ]
  },
  {
   "cell_type": "code",
   "execution_count": 8,
   "metadata": {},
   "outputs": [],
   "source": [
    "# request_to_scrape Production Code\n",
    "def request_to_scrape(url):\n",
    "    pass"
   ]
  },
  {
   "cell_type": "markdown",
   "metadata": {},
   "source": [
    "---\n",
    "\n",
    "# Python Execution Code\n",
    "\n",
    "Develop any code to call the developed functions below.  Add additional cells so you don't need to re-run all of the code when you develop further scripts."
   ]
  },
  {
   "cell_type": "code",
   "execution_count": null,
   "metadata": {},
   "outputs": [],
   "source": [
    "# Python Execution Code\n"
   ]
  },
  {
   "cell_type": "markdown",
   "metadata": {},
   "source": [
    "---"
   ]
  },
  {
   "cell_type": "markdown",
   "metadata": {},
   "source": [
    "# Jupyter Notebook Test and Linting Set Up"
   ]
  },
  {
   "cell_type": "markdown",
   "metadata": {},
   "source": [
    "To run `pytest` scripts in a Jupyter Notebook cell, we need to install the `ipytest` package.  This package is NOT required for a pipeline and therefore it can be removed from the `requirements.txt` file before adding the production code to the pipeline.\n",
    "\n",
    "To run linting, we need to install 2 packages `nbqa` and `flake8`.  We will make sure that `flake8` is included in the `requirements.txt` file when constructing the pipeline so that we can lint as part of the pipeline tests.\n",
    "\n",
    "Run the following cell to install the `ipytest`, `nbqa` and `flake8` packages and a coverage package to help determine if all of your production code is executed during the tests!\n",
    "\n",
    "This cell only needs to be run once (or after restarting the notebook kernel) to set up the environment for testing and linting.\n"
   ]
  },
  {
   "cell_type": "code",
   "execution_count": null,
   "metadata": {
    "vscode": {
     "languageId": "shellscript"
    }
   },
   "outputs": [],
   "source": [
    "# Install the `ipytest`, `nbqa` and `flake8` packages\n",
    "!pip install ipytest nbqa flake8"
   ]
  },
  {
   "cell_type": "markdown",
   "metadata": {},
   "source": [
    "### Set up `ipytest` to execute `pytest` scripts in Jupyter Notebook"
   ]
  },
  {
   "cell_type": "code",
   "execution_count": null,
   "metadata": {},
   "outputs": [],
   "source": [
    "# Configure ipytest for Jupyter Notebook\n",
    "\n",
    "import ipytest\n",
    "ipytest.autoconfig(rewrite_asserts=True, magics=True)"
   ]
  },
  {
   "cell_type": "markdown",
   "metadata": {},
   "source": [
    "### Create a *config* file for `flake8`\n",
    "\n",
    "Run this script to create a file in your project root"
   ]
  },
  {
   "cell_type": "code",
   "execution_count": null,
   "metadata": {
    "vscode": {
     "languageId": "shellscript"
    }
   },
   "outputs": [],
   "source": [
    "# Create a config file and ignore some flake8 rules\n",
    "!echo \"[flake8]\" > .flake8\n",
    "!echo \"ignore = E402, W291, F811\" >> .flake8"
   ]
  },
  {
   "cell_type": "markdown",
   "metadata": {},
   "source": [
    "# Execute the tests and linting in the Jupyter Notebook\n",
    "\n",
    "Run the following cell ***EVERY TIME*** you want to run the tests and linting that you have written in the *Python Tests* cell above.\n",
    "\n",
    ">**Note:**\n",
    ">\n",
    "> This entire section does not need to be part of any pipeline scripts.  \n",
    "> It is only required for the Jupyter Notebook environment during development.\n"
   ]
  },
  {
   "cell_type": "markdown",
   "metadata": {},
   "source": [
    "## Run the tests"
   ]
  },
  {
   "cell_type": "code",
   "execution_count": null,
   "metadata": {},
   "outputs": [],
   "source": [
    "# Run the tests\n",
    "ipytest.run(\"-vv\", \"-ss\")"
   ]
  },
  {
   "cell_type": "markdown",
   "metadata": {},
   "source": [
    "## Run the linter\n",
    "\n",
    "Run this script each time you want to lint your code"
   ]
  },
  {
   "cell_type": "code",
   "execution_count": null,
   "metadata": {
    "vscode": {
     "languageId": "shellscript"
    }
   },
   "outputs": [],
   "source": [
    "# Run the linter\n",
    "!nbqa flake8 --show-source --format=pylint webscraping.ipynb"
   ]
  },
  {
   "cell_type": "markdown",
   "metadata": {},
   "source": [
    "\n",
    "---\n"
   ]
  }
 ],
 "metadata": {
  "kernelspec": {
   "display_name": ".venv",
   "language": "python",
   "name": "python3"
  },
  "language_info": {
   "codemirror_mode": {
    "name": "ipython",
    "version": 3
   },
   "file_extension": ".py",
   "mimetype": "text/x-python",
   "name": "python",
   "nbconvert_exporter": "python",
   "pygments_lexer": "ipython3",
   "version": "3.12.5"
  }
 },
 "nbformat": 4,
 "nbformat_minor": 2
}
